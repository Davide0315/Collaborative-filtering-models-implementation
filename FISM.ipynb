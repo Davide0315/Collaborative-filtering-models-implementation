{
 "cells": [
  {
   "cell_type": "code",
   "execution_count": 7,
   "id": "6214f91c",
   "metadata": {},
   "outputs": [],
   "source": [
    "import pandas as pd\n",
    "from scipy.sparse import csr_matrix\n",
    "import numpy as np\n",
    "from sklearn.model_selection import train_test_split\n",
    "\n",
    "data = pd.read_csv(r'C:\\Users\\Stefano\\Desktop\\Tesi\\recomm_retail_b2b.csv')\n",
    "\n",
    "train_data, test_data = train_test_split(data, test_size=0.2)\n",
    "\n",
    "user_item_matrix = csr_matrix((train_data['NUMBER_ORDERS'], (train_data['ID_CLIENT'], train_data['ID_PRODUCT'])))\n"
   ]
  },
  {
   "cell_type": "code",
   "execution_count": 8,
   "id": "4f92a59f",
   "metadata": {},
   "outputs": [],
   "source": [
    "class FISM:\n",
    "    def __init__(self, num_factors=64, learning_rate=0.01, regularization=0.1, alpha=0.5, iterations=50, rho=10):\n",
    "\n",
    "        self.num_factors = num_factors\n",
    "        self.learning_rate = learning_rate\n",
    "        self.regularization = regularization\n",
    "        self.alpha = alpha\n",
    "        self.iterations = iterations\n",
    "        self.rho = rho\n",
    "\n",
    "    def fit(self, user_item_matrix):\n",
    "\n",
    "        num_users, num_items = user_item_matrix.shape\n",
    "        self.item_factors_P = np.random.normal(scale=1./self.num_factors, size=(num_items, self.num_factors))\n",
    "        self.item_factors_Q = np.random.normal(scale=1./self.num_factors, size=(num_items, self.num_factors))\n",
    "        self.item_biases = np.zeros(num_items)\n",
    "        \n",
    "        for iteration in range(self.iterations):\n",
    "            for u in range(num_users):\n",
    "                items_u = user_item_matrix[u].indices\n",
    "                items_u_neg = np.setdiff1d(np.arange(num_items), items_u)\n",
    "                np.random.shuffle(items_u_neg)\n",
    "                items_u_neg = items_u_neg[:self.rho]\n",
    "                \n",
    "                for i in items_u:\n",
    "                    p_u = (len(items_u) ** -self.alpha) * np.sum(self.item_factors_P[items_u], axis=0)\n",
    "                    q_i = self.item_factors_Q[i]\n",
    "                    r_ui = self.item_biases[i] + np.dot(p_u, q_i)\n",
    "                    \n",
    "                    for j in items_u_neg:\n",
    "                        q_j = self.item_factors_Q[j]\n",
    "                        r_uj = self.item_biases[j] + np.dot(p_u, q_j)\n",
    "                        error = 1 - (r_ui - r_uj)\n",
    "                        \n",
    "                        self.item_biases[i] += self.learning_rate * (error - self.regularization * self.item_biases[i])\n",
    "                        self.item_biases[j] -= self.learning_rate * (error - self.regularization * self.item_biases[j])\n",
    "                        self.item_factors_Q[i] += self.learning_rate * (error * p_u - self.regularization * self.item_factors_Q[i])\n",
    "                        self.item_factors_Q[j] -= self.learning_rate * (error * p_u - self.regularization * self.item_factors_Q[j])\n",
    "                        \n",
    "                        for k in items_u:\n",
    "                            self.item_factors_P[k] += self.learning_rate * (error * (self.item_factors_Q[i] - self.item_factors_Q[j]) / len(items_u) ** self.alpha - self.regularization * self.item_factors_P[k])\n",
    "            \n",
    "            print(f\"Iteration {iteration + 1}/{self.iterations} completed\")\n",
    "\n",
    "    def predict_single(self, u, i, items_u):\n",
    "        items_u_exclude_i = [item for item in items_u if item != i]\n",
    "        if len(items_u_exclude_i) == 0:\n",
    "            return 0\n",
    "        p_u = np.sum(self.item_factors_P[items_u_exclude_i], axis=0)\n",
    "        q_i = self.item_factors_Q[i]\n",
    "        n_u_alpha = len(items_u_exclude_i) ** self.alpha\n",
    "        score = self.item_biases[i] + np.dot(p_u, q_i) / n_u_alpha\n",
    "        return score\n",
    "\n",
    "    def recommend(self, user_id, user_item_matrix, N=10):\n",
    "\n",
    "        items_u = user_item_matrix[user_id].indices\n",
    "        scores = np.array([self.predict_single(user_id, i, items_u) for i in range(user_item_matrix.shape[1])])\n",
    "        top_items = np.argsort(scores)[::-1][:N]\n",
    "        return top_items\n"
   ]
  },
  {
   "cell_type": "code",
   "execution_count": 9,
   "id": "0f3a15b7",
   "metadata": {},
   "outputs": [],
   "source": [
    "def evaluate_model(model, user_item_matrix, test_data):\n",
    "    total_rank = 0\n",
    "    total_orders = 0\n",
    "    \n",
    "    for user_id in test_data['ID_CLIENT'].unique():\n",
    "        user_test_data = test_data[test_data['ID_CLIENT'] == user_id]\n",
    "        recommended_items = model.recommend(user_id, user_item_matrix, N=user_item_matrix.shape[1])\n",
    "        item_ranks = {item: rank for rank, item in enumerate(recommended_items)}\n",
    "        \n",
    "        for _, row in user_test_data.iterrows():\n",
    "            product_id = row['ID_PRODUCT']\n",
    "            orders = row['NUMBER_ORDERS']\n",
    "            rank_ui = item_ranks.get(product_id, len(recommended_items)) / len(recommended_items)\n",
    "            total_rank += rank_ui * orders\n",
    "            total_orders += orders\n",
    "    \n",
    "    average_rank = total_rank / total_orders\n",
    "    return average_rank * 100 "
   ]
  },
  {
   "cell_type": "code",
   "execution_count": 16,
   "id": "a152abf5",
   "metadata": {},
   "outputs": [
    {
     "name": "stdout",
     "output_type": "stream",
     "text": [
      "Iteration 1/20 completed\n",
      "Iteration 2/20 completed\n",
      "Iteration 3/20 completed\n",
      "Iteration 4/20 completed\n",
      "Iteration 5/20 completed\n",
      "Iteration 6/20 completed\n",
      "Iteration 7/20 completed\n",
      "Iteration 8/20 completed\n",
      "Iteration 9/20 completed\n",
      "Iteration 10/20 completed\n",
      "Iteration 11/20 completed\n",
      "Iteration 12/20 completed\n",
      "Iteration 13/20 completed\n",
      "Iteration 14/20 completed\n",
      "Iteration 15/20 completed\n",
      "Iteration 16/20 completed\n",
      "Iteration 17/20 completed\n",
      "Iteration 18/20 completed\n",
      "Iteration 19/20 completed\n",
      "Iteration 20/20 completed\n"
     ]
    }
   ],
   "source": [
    "model = FISM(num_factors=100, learning_rate=0.01, regularization=0.1, alpha=0.5, iterations=20, rho=10)\n",
    "model.fit(user_item_matrix)"
   ]
  },
  {
   "cell_type": "code",
   "execution_count": 18,
   "id": "0c38cd53",
   "metadata": {},
   "outputs": [],
   "source": [
    "average_rank = evaluate_model(model, user_item_matrix, test_data)\n",
    "print(\"Average percentile rank: {:.2f}%\".format(average_rank))"
   ]
  }
 ],
 "metadata": {
  "kernelspec": {
   "display_name": "Python 3 (ipykernel)",
   "language": "python",
   "name": "python3"
  },
  "language_info": {
   "codemirror_mode": {
    "name": "ipython",
    "version": 3
   },
   "file_extension": ".py",
   "mimetype": "text/x-python",
   "name": "python",
   "nbconvert_exporter": "python",
   "pygments_lexer": "ipython3",
   "version": "3.9.12"
  }
 },
 "nbformat": 4,
 "nbformat_minor": 5
}
