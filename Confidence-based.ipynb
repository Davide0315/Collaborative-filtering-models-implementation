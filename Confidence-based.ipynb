{
 "cells": [
  {
   "cell_type": "code",
   "execution_count": 39,
   "id": "423c2f13",
   "metadata": {},
   "outputs": [],
   "source": [
    "import numpy as np\n",
    "import scipy.sparse as sparse\n",
    "from scipy.sparse.linalg import spsolve\n",
    "import pandas as pd\n",
    "from sklearn.model_selection import train_test_split\n",
    "from sklearn.preprocessing import MinMaxScaler\n",
    "import matplotlib.pyplot as plt"
   ]
  },
  {
   "cell_type": "code",
   "execution_count": 21,
   "id": "d561d5e8",
   "metadata": {},
   "outputs": [],
   "source": [
    "\n",
    "df = pd.read_csv(r'C:\\Users\\Stefano\\Desktop\\Tesi\\recomm_retail_b2b.csv')\n"
   ]
  },
  {
   "cell_type": "code",
   "execution_count": 36,
   "id": "3ec113a4",
   "metadata": {},
   "outputs": [
    {
     "name": "stdout",
     "output_type": "stream",
     "text": [
      "Average number of orders: 1.7809376077214754\n",
      "Mode of the number of orders: 1\n",
      "Largest order: 500\n",
      "Average number of pieces ordered: 24.50482592209583\n",
      "Mode of the number of pieces ordered: 1\n",
      "Largest number of pieces ordered: 14808\n",
      "Most frequent product category: C30\n"
     ]
    }
   ],
   "source": [
    "mean_orders = df['NUMBER_ORDERS'].mean()\n",
    "\n",
    "mode_orders = df['NUMBER_ORDERS'].mode()[0]\n",
    "\n",
    "max_order = df['NUMBER_ORDERS'].max()\n",
    "\n",
    "mean_pieces = df['NUMBER_PIECES'].mean() if 'NUMBER_PIECES' in df.columns else None\n",
    "\n",
    "mode_pieces = df['NUMBER_PIECES'].mode()[0] if 'NUMBER_PIECES' in df.columns else None\n",
    "\n",
    "max_pieces = df['NUMBER_PIECES'].max() if 'NUMBER_PIECES' in df.columns else None\n",
    "\n",
    "most_frequent_category = df['PRODUCT_CATEGORY'].mode()[0] if 'PRODUCT_CATEGORY' in df.columns else None\n",
    "\n",
    "print(f\"Average number of orders: {mean_orders}\")\n",
    "print(f\"Mode of the number of orders: {mode_orders}\")\n",
    "print(f\"Largest order: {max_order}\")\n",
    "print(f\"Average number of pieces ordered: {mean_pieces}\")\n",
    "print(f\"Mode of the number of pieces ordered: {mode_pieces}\")\n",
    "print(f\"Largest number of pieces ordered: {max_pieces}\")\n",
    "print(f\"Most frequent product category: {most_frequent_category}\")"
   ]
  },
  {
   "cell_type": "code",
   "execution_count": 37,
   "id": "7f02865e",
   "metadata": {},
   "outputs": [
    {
     "name": "stdout",
     "output_type": "stream",
     "text": [
      "Number of unique customers: 936\n",
      "Number of unique products: 3175\n"
     ]
    }
   ],
   "source": [
    "\n",
    "unique_customers = df['ID_CLIENT'].nunique()\n",
    "\n",
    "unique_products = df['ID_PRODUCT'].nunique()\n",
    "\n",
    "print(f\"Number of unique customers: {unique_customers}\")\n",
    "print(f\"Number of unique products: {unique_products}\")"
   ]
  },
  {
   "cell_type": "code",
   "execution_count": 38,
   "id": "68b8a352",
   "metadata": {},
   "outputs": [
    {
     "name": "stdout",
     "output_type": "stream",
     "text": [
      "Number of unique customers: 936\n",
      "Number of unique products: 3175\n",
      "Average orders per customer: 11.039529914529915\n",
      "Average orders per product: 3.254488188976378\n"
     ]
    }
   ],
   "source": [
    "order_frequency_by_customer = df.groupby('ID_CLIENT')['NUMBER_ORDERS'].sum()\n",
    "average_orders_per_customer = order_frequency_by_customer.mean()\n",
    "\n",
    "product_popularity = df.groupby('ID_PRODUCT')['NUMBER_ORDERS'].sum()\n",
    "average_orders_per_product = product_popularity.mean()\n",
    "\n",
    "print(f\"Number of unique customers: {unique_customers}\")\n",
    "print(f\"Number of unique products: {unique_products}\")\n",
    "print(f\"Average orders per customer: {average_orders_per_customer}\")\n",
    "print(f\"Average orders per product: {average_orders_per_product}\")"
   ]
  },
  {
   "cell_type": "code",
   "execution_count": 45,
   "id": "d1e503c3",
   "metadata": {},
   "outputs": [
    {
     "data": {
      "image/png": "[encoded data removed]",
      "text/plain": [
       "<Figure size 864x432 with 2 Axes>"
      ]
     },
     "metadata": {
      "needs_background": "light"
     },
     "output_type": "display_data"
    },
    {
     "name": "stdout",
     "output_type": "stream",
     "text": [
      "Number of outliers in orders: 1226\n",
      "Q1 of orders: 1.0\n",
      "Q3 of orders: 1.0\n",
      "IQR of orders: 0.0\n",
      "Number of outliers in pieces: 1097\n",
      "Q1 of pieces: 1.0\n",
      "Q3 of pieces: 2.0\n",
      "IQR of pieces: 1.0\n"
     ]
    }
   ],
   "source": [
    "\n",
    "fig, axs = plt.subplots(1, 2, figsize=(12, 6))\n",
    "\n",
    "box_orders = axs[0].boxplot(df['NUMBER_ORDERS'], vert=False, patch_artist=True)\n",
    "axs[0].set_title('Box Plot of Number of Orders')\n",
    "axs[0].set_xlabel('Number of Orders')\n",
    "\n",
    "axs[0].set_xlim(left=0, right=df['NUMBER_ORDERS'].quantile(0.95))\n",
    "\n",
    "median_orders = df['NUMBER_ORDERS'].median()\n",
    "q1_orders = df['NUMBER_ORDERS'].quantile(0.25)\n",
    "q3_orders = df['NUMBER_ORDERS'].quantile(0.75)\n",
    "iqr_orders = q3_orders - q1_orders\n",
    "\n",
    "outliers_orders = len(df[(df['NUMBER_ORDERS'] < q1_orders - 1.5 * iqr_orders) | (df['NUMBER_ORDERS'] > q3_orders + 1.5 * iqr_orders)])\n",
    "\n",
    "if 'NUMBER_PIECES' in df.columns:\n",
    "    box_pieces = axs[1].boxplot(df['NUMBER_PIECES'], vert=False, patch_artist=True)\n",
    "    axs[1].set_title('Box Plot of Number of Pieces')\n",
    "    axs[1].set_xlabel('Number of Pieces')\n",
    "\n",
    "    axs[1].set_xlim(left=0, right=df['NUMBER_PIECES'].quantile(0.95))\n",
    "    axs[0].xaxis.set_major_locator(plt.MaxNLocator(integer=True))\n",
    "\n",
    "    median_pieces = df['NUMBER_PIECES'].median()\n",
    "    q1_pieces = df['NUMBER_PIECES'].quantile(0.25)\n",
    "    q3_pieces = df['NUMBER_PIECES'].quantile(0.75)\n",
    "    iqr_pieces = q3_pieces - q1_pieces\n",
    "\n",
    "    outliers_pieces = len(df[(df['NUMBER_PIECES'] < q1_pieces - 1.5 * iqr_pieces) | (df['NUMBER_PIECES'] > q3_pieces + 1.5 * iqr_pieces)])\n",
    "else:\n",
    "    outliers_pieces = None\n",
    "    q1_pieces, q3_pieces, iqr_pieces = None, None, None\n",
    "\n",
    "plt.tight_layout()\n",
    "plt.show()\n",
    "\n",
    "print(f\"Number of outliers in orders: {outliers_orders}\")\n",
    "print(f\"Q1 of orders: {q1_orders}\")\n",
    "print(f\"Q3 of orders: {q3_orders}\")\n",
    "print(f\"IQR of orders: {iqr_orders}\")\n",
    "print(f\"Number of outliers in pieces: {outliers_pieces}\")\n",
    "print(f\"Q1 of pieces: {q1_pieces}\")\n",
    "print(f\"Q3 of pieces: {q3_pieces}\")\n",
    "print(f\"IQR of pieces: {iqr_pieces}\")"
   ]
  },
  {
   "cell_type": "code",
   "execution_count": 22,
   "id": "ef69db2d",
   "metadata": {},
   "outputs": [],
   "source": [
    "user_item_matrix = df.pivot(index='ID_CLIENT', columns='ID_PRODUCT', values='NUMBER_ORDERS').fillna(0)\n",
    "ratings = user_item_matrix.values"
   ]
  },
  {
   "cell_type": "code",
   "execution_count": 23,
   "id": "a71d7af8",
   "metadata": {},
   "outputs": [],
   "source": [
    "def confidence_matrix(ratings, alpha):\n",
    "    return 1 + alpha * ratings"
   ]
  },
  {
   "cell_type": "code",
   "execution_count": 49,
   "id": "e46a3fbd",
   "metadata": {},
   "outputs": [
    {
     "name": "stdout",
     "output_type": "stream",
     "text": [
      "Mean of confidence matrix: 1.0695403459182986\n",
      "Minimum value in confidence matrix: 1.0\n",
      "Maximum value in confidence matrix: 10001.0\n",
      "Standard deviation of confidence matrix: 7.445258166614891\n"
     ]
    }
   ],
   "source": [
    "def calculate_statistics(matrix):\n",
    "    stats = {\n",
    "        'mean': np.mean(matrix),\n",
    "        'median': np.median(matrix),\n",
    "        'min': np.min(matrix),\n",
    "        'max': np.max(matrix),\n",
    "        'std_dev': np.std(matrix),\n",
    "        'percentiles': np.percentile(matrix, [25, 50, 75]),\n",
    "    }\n",
    "    return stats\n",
    "\n",
    "alpha = 20\n",
    "C_train = confidence_matrix(ratings, alpha)\n",
    "\n",
    "\n",
    "C_train_flat = C_train.flatten()\n",
    "\n",
    "confidence_stats = calculate_statistics(C_train_flat)\n",
    "\n",
    "print(f\"Mean of confidence matrix: {confidence_stats['mean']}\")\n",
    "print(f\"Minimum value in confidence matrix: {confidence_stats['min']}\")\n",
    "print(f\"Maximum value in confidence matrix: {confidence_stats['max']}\")\n",
    "print(f\"Standard deviation of confidence matrix: {confidence_stats['std_dev']}\")"
   ]
  },
  {
   "cell_type": "code",
   "execution_count": 24,
   "id": "7c5b2f17",
   "metadata": {},
   "outputs": [],
   "source": [
    "def binarize_preferences(ratings):\n",
    "    preferences = ratings.copy()\n",
    "    preferences[preferences != 0] = 1\n",
    "    return preferences"
   ]
  },
  {
   "cell_type": "code",
   "execution_count": 25,
   "id": "ed08a4de",
   "metadata": {},
   "outputs": [],
   "source": [
    "def update_user_factors(Y, C_u, p_u, lambda_val, YTY):\n",
    "    Cu_minus_I = C_u - np.eye(Y.shape[0])\n",
    "    YTCuY = YTY + Y.T @ Cu_minus_I @ Y\n",
    "    lambda_I = np.eye(Y.shape[1]) * lambda_val\n",
    "    YTCup_u = Y.T @ C_u @ p_u\n",
    "    return np.linalg.solve(YTCuY + lambda_I, YTCup_u)"
   ]
  },
  {
   "cell_type": "code",
   "execution_count": 26,
   "id": "ba74b314",
   "metadata": {},
   "outputs": [],
   "source": [
    "\n",
    "def update_item_factors(X, C_i, p_i, lambda_val, XTX):\n",
    "    Ci_minus_I = C_i - np.eye(X.shape[0])\n",
    "    XTCiX = XTX + X.T @ Ci_minus_I @ X\n",
    "    lambda_I = np.eye(X.shape[1]) * lambda_val\n",
    "    XTCip_i = X.T @ C_i @ p_i\n",
    "    return np.linalg.solve(XTCiX + lambda_I, XTCip_i)"
   ]
  },
  {
   "cell_type": "code",
   "execution_count": 27,
   "id": "c080c4de",
   "metadata": {},
   "outputs": [],
   "source": [
    "def implicit_als_train_test(ratings, alpha=20, lambda_val=0.1, factors=100, iterations=10, test_size=0.2):\n",
    "    num_users, num_items = ratings.shape\n",
    "\n",
    "    train_indices, test_indices = train_test_split(np.arange(num_users), test_size=test_size)\n",
    "    train_ratings = ratings[train_indices]\n",
    "    test_ratings = ratings[test_indices]\n",
    "\n",
    "    X = np.random.rand(num_users, factors)\n",
    "    Y = np.random.rand(num_items, factors)\n",
    "\n",
    "    P_train = binarize_preferences(train_ratings)\n",
    "    P_test = binarize_preferences(test_ratings)\n",
    "\n",
    "    C_train = confidence_matrix(train_ratings, alpha)\n",
    "    C_test = confidence_matrix(test_ratings, alpha)\n",
    "\n",
    "    for iteration in range(iterations):\n",
    "        YTY = Y.T @ Y\n",
    "        for u in range(len(train_indices)):\n",
    "            user_idx = train_indices[u]\n",
    "            C_u = sparse.diags(C_train[u, :])\n",
    "            p_u = P_train[u, :]\n",
    "            X[user_idx, :] = update_user_factors(Y, C_u.toarray(), p_u, lambda_val, YTY)\n",
    "\n",
    "        XTX = X.T @ X\n",
    "        for i in range(num_items):\n",
    "            C_i = sparse.diags(C_train[:, i])\n",
    "            p_i = P_train[:, i]\n",
    "            Y[i, :] = update_item_factors(X[train_indices, :], C_i.toarray(), p_i, lambda_val, XTX)\n",
    "\n",
    "        print(f\"Iteration {iteration + 1}/{iterations} completed\")\n",
    "\n",
    "    return X, Y, train_indices, test_indices"
   ]
  },
  {
   "cell_type": "code",
   "execution_count": 28,
   "id": "c5976d4f",
   "metadata": {},
   "outputs": [
    {
     "name": "stdout",
     "output_type": "stream",
     "text": [
      "Iteration 1/10 completed\n",
      "Iteration 2/10 completed\n",
      "Iteration 3/10 completed\n",
      "Iteration 4/10 completed\n",
      "Iteration 5/10 completed\n",
      "Iteration 6/10 completed\n",
      "Iteration 7/10 completed\n",
      "Iteration 8/10 completed\n",
      "Iteration 9/10 completed\n",
      "Iteration 10/10 completed\n"
     ]
    }
   ],
   "source": [
    "user_factors, item_factors, train_indices, test_indices = implicit_als_train_test(ratings, alpha=20, lambda_val=0.1, factors=100, iterations=10, test_size=0.2)"
   ]
  },
  {
   "cell_type": "code",
   "execution_count": 29,
   "id": "3ab63ac0",
   "metadata": {},
   "outputs": [
    {
     "name": "stdout",
     "output_type": "stream",
     "text": [
      "RMSE on test set: 3.0401764961894346\n"
     ]
    }
   ],
   "source": [
    "from sklearn.metrics import mean_squared_error\n",
    "\n",
    "def evaluate_model(user_factors, item_factors, test_ratings, test_indices):\n",
    "    predictions = user_factors[test_indices, :].dot(item_factors.T)\n",
    "    true_ratings = test_ratings[test_indices, :]\n",
    "    rmse = np.sqrt(mean_squared_error(true_ratings[true_ratings > 0], predictions[true_ratings > 0]))\n",
    "    return rmse\n",
    "\n",
    "# Predizioni sui dati di test\n",
    "predictions = user_factors[test_indices, :].dot(item_factors.T)\n",
    "rmse = evaluate_model(user_factors, item_factors, ratings, test_indices)\n",
    "\n",
    "#print(\"User Factors:\\n\", user_factors)\n",
    "#print(\"Item Factors:\\n\", item_factors)\n",
    "print(\"RMSE on test set:\", rmse)"
   ]
  },
  {
   "cell_type": "code",
   "execution_count": 30,
   "id": "e3d51c48",
   "metadata": {},
   "outputs": [],
   "source": [
    "def generate_rankings(user_factors, item_factors):\n",
    "    num_users, num_items = user_factors.shape[0], item_factors.shape[0]\n",
    "    rankings = np.zeros((num_users, num_items))\n",
    "    \n",
    "    for u in range(num_users):\n",
    "        scores = user_factors[u, :] @ item_factors.T\n",
    "        \n",
    "        rank_absolute = np.argsort(np.argsort(-scores))\n",
    "        \n",
    "        rankings[u, :] = rank_absolute / num_items * 100 \n",
    "\n",
    "    return rankings\n",
    "\n",
    "rankings = generate_rankings(user_factors, item_factors)"
   ]
  },
  {
   "cell_type": "code",
   "execution_count": 31,
   "id": "91e40814",
   "metadata": {},
   "outputs": [
    {
     "name": "stdout",
     "output_type": "stream",
     "text": [
      "Expected Percentile Rank: 9.56%\n"
     ]
    }
   ],
   "source": [
    "def calculate_expected_rank(ratings, rankings):\n",
    "    watched_mask = ratings > 0\n",
    "    \n",
    "    rank_values = rankings[watched_mask]\n",
    "    \n",
    "    rank_bar = np.mean(rank_values)\n",
    "    return rank_bar\n",
    "\n",
    "expected_rank = calculate_expected_rank(ratings, rankings)\n",
    "print(f\"Expected Percentile Rank: {expected_rank:.2f}%\")"
   ]
  },
  {
   "cell_type": "code",
   "execution_count": 32,
   "id": "0342362d",
   "metadata": {},
   "outputs": [
    {
     "name": "stdout",
     "output_type": "stream",
     "text": [
      "Baseline RMSE (Global Mean): 2.580924504115023\n",
      "Model RMSE: 3.0401764961894346\n"
     ]
    }
   ],
   "source": [
    "global_mean = np.mean(ratings[ratings > 0])\n",
    "baseline_predictions = np.full(ratings[test_indices, :].shape, global_mean)\n",
    "baseline_rmse = np.sqrt(mean_squared_error(ratings[test_indices][ratings[test_indices] > 0], baseline_predictions[ratings[test_indices] > 0]))\n",
    "\n",
    "print(\"Baseline RMSE (Global Mean):\", baseline_rmse)\n",
    "print(\"Model RMSE:\", rmse)"
   ]
  },
  {
   "cell_type": "code",
   "execution_count": 33,
   "id": "b7b0366f",
   "metadata": {},
   "outputs": [
    {
     "name": "stdout",
     "output_type": "stream",
     "text": [
      "Expected Percentile Rank (Popularity Baseline): 56.08%\n",
      "Expected Percentile Rank (Model): 9.56%\n",
      "Expected Percentile Rank (Popularity Baseline): 56.08%\n",
      "Il modello performa meglio della baseline basata sulla popolarità.\n"
     ]
    }
   ],
   "source": [
    "item_popularity = df.groupby('ID_PRODUCT').size().reset_index(name='popularity')\n",
    "item_popularity = item_popularity.sort_values(by='popularity', ascending=False).reset_index(drop=True)\n",
    "\n",
    "\n",
    "def generate_popularity_rankings(num_users, item_popularity):\n",
    "    num_items = len(item_popularity)\n",
    "    rankings = np.zeros((num_users, num_items))\n",
    "    \n",
    "    for u in range(num_users):\n",
    "        rankings[u, :] = np.argsort(np.argsort(-item_popularity['popularity'])) / num_items * 100\n",
    "    \n",
    "    return rankings\n",
    "\n",
    "num_users = ratings.shape[0]\n",
    "popularity_rankings = generate_popularity_rankings(num_users, item_popularity)\n",
    "popularity_expected_rank = calculate_expected_rank(ratings, popularity_rankings)\n",
    "print(f\"Expected Percentile Rank (Popularity Baseline): {popularity_expected_rank:.2f}%\")\n",
    "\n",
    "model_rankings = generate_rankings(user_factors, item_factors)\n",
    "model_expected_rank = calculate_expected_rank(ratings, model_rankings)\n",
    "\n",
    "print(f\"Expected Percentile Rank (Model): {model_expected_rank:.2f}%\")\n",
    "print(f\"Expected Percentile Rank (Popularity Baseline): {popularity_expected_rank:.2f}%\")\n",
    "\n",
    "if model_expected_rank < popularity_expected_rank:\n",
    "    print(\"Il modello performa meglio della baseline basata sulla popolarità.\")\n",
    "else:\n",
    "    print(\"La baseline basata sulla popolarità performa meglio del modello.\")"
   ]
  }
 ],
 "metadata": {
  "kernelspec": {
   "display_name": "Python 3 (ipykernel)",
   "language": "python",
   "name": "python3"
  },
  "language_info": {
   "codemirror_mode": {
    "name": "ipython",
    "version": 3
   },
   "file_extension": ".py",
   "mimetype": "text/x-python",
   "name": "python",
   "nbconvert_exporter": "python",
   "pygments_lexer": "ipython3",
   "version": "3.9.12"
  }
 },
 "nbformat": 4,
 "nbformat_minor": 5
}
